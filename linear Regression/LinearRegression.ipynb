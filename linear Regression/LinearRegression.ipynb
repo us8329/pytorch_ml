{
  "nbformat": 4,
  "nbformat_minor": 0,
  "metadata": {
    "colab": {
      "name": "LinearRegression.ipynb",
      "provenance": [],
      "collapsed_sections": []
    },
    "kernelspec": {
      "name": "python3",
      "display_name": "Python 3"
    },
    "language_info": {
      "name": "python"
    },
    "accelerator": "GPU"
  },
  "cells": [
    {
      "cell_type": "markdown",
      "source": [
        "##using linear regression libraries in pytorch"
      ],
      "metadata": {
        "id": "kgJamcB2O0eN"
      }
    },
    {
      "cell_type": "code",
      "source": [
        "import torch.nn as nn\n",
        "import numpy as np"
      ],
      "metadata": {
        "id": "YBqbdDV-O4DF"
      },
      "execution_count": 24,
      "outputs": []
    },
    {
      "cell_type": "code",
      "source": [
        "# Input (temp, rainfall, humidity)\n",
        "inputs = np.array([[73, 67, 43], \n",
        "                   [91, 88, 64], \n",
        "                   [87, 134, 58], \n",
        "                   [102, 43, 37], \n",
        "                   [69, 96, 70], \n",
        "                   [74, 66, 43], \n",
        "                   [91, 87, 65], \n",
        "                   [88, 134, 59], \n",
        "                   [101, 44, 37], \n",
        "                   [68, 96, 71], \n",
        "                   [73, 66, 44], \n",
        "                   [92, 87, 64], \n",
        "                   [87, 135, 57], \n",
        "                   [103, 43, 36], \n",
        "                   [68, 97, 70]], \n",
        "                  dtype='float32')\n",
        "\n",
        "# Targets (apples, oranges)\n",
        "targets = np.array([[56, 70], \n",
        "                    [81, 101], \n",
        "                    [119, 133], \n",
        "                    [22, 37], \n",
        "                    [103, 119],\n",
        "                    [57, 69], \n",
        "                    [80, 102], \n",
        "                    [118, 132], \n",
        "                    [21, 38], \n",
        "                    [104, 118], \n",
        "                    [57, 69], \n",
        "                    [82, 100], \n",
        "                    [118, 134], \n",
        "                    [20, 38], \n",
        "                    [102, 120]], \n",
        "                   dtype='float32')\n",
        "\n",
        "inputs = torch.from_numpy(inputs)\n",
        "targets = torch.from_numpy(targets)"
      ],
      "metadata": {
        "id": "nq_ozoYOO6qb"
      },
      "execution_count": 25,
      "outputs": []
    },
    {
      "cell_type": "markdown",
      "source": [
        "Dataset and DataLoader"
      ],
      "metadata": {
        "id": "FmeCyGnvPXS_"
      }
    },
    {
      "cell_type": "code",
      "source": [
        "from torch.utils.data import TensorDataset"
      ],
      "metadata": {
        "id": "pLeM5LngPH6c"
      },
      "execution_count": 26,
      "outputs": []
    },
    {
      "cell_type": "code",
      "source": [
        "#Define dataset\n",
        "train_ds = TensorDataset(inputs,targets)\n",
        "train_ds[0:3]"
      ],
      "metadata": {
        "colab": {
          "base_uri": "https://localhost:8080/"
        },
        "id": "iJ_U04UsPeD_",
        "outputId": "1743c224-ea73-4468-b020-8a03520279f3"
      },
      "execution_count": 27,
      "outputs": [
        {
          "output_type": "execute_result",
          "data": {
            "text/plain": [
              "(tensor([[ 73.,  67.,  43.],\n",
              "         [ 91.,  88.,  64.],\n",
              "         [ 87., 134.,  58.]]), tensor([[ 56.,  70.],\n",
              "         [ 81., 101.],\n",
              "         [119., 133.]]))"
            ]
          },
          "metadata": {},
          "execution_count": 27
        }
      ]
    },
    {
      "cell_type": "code",
      "source": [
        "from torch.utils.data import DataLoader"
      ],
      "metadata": {
        "id": "Z5zvkR7vPlIs"
      },
      "execution_count": 28,
      "outputs": []
    },
    {
      "cell_type": "code",
      "source": [
        "#define data loader\n",
        "batch_size = 5\n",
        "train_dl = DataLoader(train_ds , batch_size , shuffle=True)"
      ],
      "metadata": {
        "id": "Jov4ho3HP5xu"
      },
      "execution_count": 29,
      "outputs": []
    },
    {
      "cell_type": "code",
      "source": [
        "for xb, yb in train_dl:\n",
        "  print(xb)\n",
        "  print(yb)\n"
      ],
      "metadata": {
        "colab": {
          "base_uri": "https://localhost:8080/"
        },
        "id": "bB7oWx6hQAk2",
        "outputId": "0d26d8e9-5dfc-49fd-a227-ce8dd3c17520"
      },
      "execution_count": 30,
      "outputs": [
        {
          "output_type": "stream",
          "name": "stdout",
          "text": [
            "tensor([[ 92.,  87.,  64.],\n",
            "        [ 87., 135.,  57.],\n",
            "        [102.,  43.,  37.],\n",
            "        [ 73.,  67.,  43.],\n",
            "        [ 69.,  96.,  70.]])\n",
            "tensor([[ 82., 100.],\n",
            "        [118., 134.],\n",
            "        [ 22.,  37.],\n",
            "        [ 56.,  70.],\n",
            "        [103., 119.]])\n",
            "tensor([[ 73.,  66.,  44.],\n",
            "        [ 91.,  87.,  65.],\n",
            "        [ 87., 134.,  58.],\n",
            "        [103.,  43.,  36.],\n",
            "        [ 68.,  96.,  71.]])\n",
            "tensor([[ 57.,  69.],\n",
            "        [ 80., 102.],\n",
            "        [119., 133.],\n",
            "        [ 20.,  38.],\n",
            "        [104., 118.]])\n",
            "tensor([[ 88., 134.,  59.],\n",
            "        [ 68.,  97.,  70.],\n",
            "        [101.,  44.,  37.],\n",
            "        [ 74.,  66.,  43.],\n",
            "        [ 91.,  88.,  64.]])\n",
            "tensor([[118., 132.],\n",
            "        [102., 120.],\n",
            "        [ 21.,  38.],\n",
            "        [ 57.,  69.],\n",
            "        [ 81., 101.]])\n"
          ]
        }
      ]
    },
    {
      "cell_type": "markdown",
      "source": [
        "##nn.Linear\n",
        "Instead of initializing the weights and biases manually , we can define the model using the nn.Linear class from Pytorch"
      ],
      "metadata": {
        "id": "BdgoRNZOQdkH"
      }
    },
    {
      "cell_type": "code",
      "source": [
        "model = nn.Linear(3,2) #(number of inputs features , number of output classes)\n",
        "print(model.weight)\n",
        "print(model.bias)"
      ],
      "metadata": {
        "colab": {
          "base_uri": "https://localhost:8080/"
        },
        "id": "1XbxcKMgQRHA",
        "outputId": "e73b58a4-3a9c-46cc-cd7b-2d47c3e3b1b4"
      },
      "execution_count": 31,
      "outputs": [
        {
          "output_type": "stream",
          "name": "stdout",
          "text": [
            "Parameter containing:\n",
            "tensor([[ 0.4183,  0.3219,  0.2654],\n",
            "        [-0.2315,  0.4969, -0.1195]], requires_grad=True)\n",
            "Parameter containing:\n",
            "tensor([ 0.3499, -0.3423], requires_grad=True)\n"
          ]
        }
      ]
    },
    {
      "cell_type": "code",
      "source": [
        "preds = model(inputs)\n",
        "preds"
      ],
      "metadata": {
        "colab": {
          "base_uri": "https://localhost:8080/"
        },
        "id": "I3aV4QYVQwJF",
        "outputId": "49389e30-87de-45e0-a124-74c19559aec7"
      },
      "execution_count": 32,
      "outputs": [
        {
          "output_type": "execute_result",
          "data": {
            "text/plain": [
              "tensor([[63.8660, 10.9128],\n",
              "        [83.7292, 14.6709],\n",
              "        [95.2698, 39.1709],\n",
              "        [66.6791, -7.0076],\n",
              "        [78.6942, 23.0209],\n",
              "        [63.9625, 10.1844],\n",
              "        [83.6728, 14.0545],\n",
              "        [95.9535, 38.8199],\n",
              "        [66.5827, -6.2793],\n",
              "        [78.5414, 23.1328],\n",
              "        [63.8096, 10.2963],\n",
              "        [83.8257, 13.9426],\n",
              "        [95.3262, 39.7873],\n",
              "        [66.8320, -7.1195],\n",
              "        [78.5978, 23.7492]], grad_fn=<AddmmBackward0>)"
            ]
          },
          "metadata": {},
          "execution_count": 32
        }
      ]
    },
    {
      "cell_type": "markdown",
      "source": [
        "Loss Function \n",
        "Instead of defining a loss function as above , we use inbuilt loss function mse_loss"
      ],
      "metadata": {
        "id": "12WYyEOcRGuO"
      }
    },
    {
      "cell_type": "code",
      "source": [
        "#import nn.functional \n",
        "import torch.nn.functional as F"
      ],
      "metadata": {
        "id": "FFBP7oL7Q_yq"
      },
      "execution_count": 33,
      "outputs": []
    },
    {
      "cell_type": "code",
      "source": [
        "#define loss function\n",
        "loss_fn = F.mse_loss"
      ],
      "metadata": {
        "id": "ZORDaOxkRb-F"
      },
      "execution_count": 34,
      "outputs": []
    },
    {
      "cell_type": "code",
      "source": [
        "loss = loss_fn(model(inputs) , targets)\n",
        "print(loss)"
      ],
      "metadata": {
        "colab": {
          "base_uri": "https://localhost:8080/"
        },
        "id": "flFYRBLDReQZ",
        "outputId": "429748a9-99b1-462b-9cab-6bdfbcdab8a4"
      },
      "execution_count": 35,
      "outputs": [
        {
          "output_type": "stream",
          "name": "stdout",
          "text": [
            "tensor(3418.6433, grad_fn=<MseLossBackward0>)\n"
          ]
        }
      ]
    },
    {
      "cell_type": "markdown",
      "source": [
        "OPTIMIZER"
      ],
      "metadata": {
        "id": "TwtilGEYMnjh"
      }
    },
    {
      "cell_type": "code",
      "source": [
        "opt = torch.optim.SGD(model.parameters() , lr = 1e-5) "
      ],
      "metadata": {
        "id": "F9ZCO0LORnzM"
      },
      "execution_count": 37,
      "outputs": []
    },
    {
      "cell_type": "markdown",
      "source": [
        "##Model Training"
      ],
      "metadata": {
        "id": "IdI7Rc_LNMaW"
      }
    },
    {
      "cell_type": "code",
      "source": [
        "def fit(num_epochs , model, loss_fn,opt):\n",
        "  for epoch in range(num_epochs):\n",
        "    for xb,yb in train_dl:\n",
        "      pred=model(xb)\n",
        "      loss = loss_fn(pred,yb)\n",
        "      loss.backward()\n",
        "      opt.step()\n",
        "      #reset gradients to zero \n",
        "      opt.zero_grad()\n",
        "    \n",
        "    if(epoch+1) %10==0:\n",
        "      print('Epoch [{}/{}], Loss: {:.4f}'.format(epoch+1 , num_epochs ,loss.item() ))\n",
        "\n"
      ],
      "metadata": {
        "id": "_JzClIiFMu2S"
      },
      "execution_count": 38,
      "outputs": []
    },
    {
      "cell_type": "code",
      "source": [
        "fit(1000 , model , loss_fn , opt)"
      ],
      "metadata": {
        "colab": {
          "base_uri": "https://localhost:8080/"
        },
        "id": "7CGaA3hQPudl",
        "outputId": "c67b6714-2d32-4f99-ea85-34c5c77aad4d"
      },
      "execution_count": 40,
      "outputs": [
        {
          "output_type": "stream",
          "name": "stdout",
          "text": [
            "Epoch [10/1000], Loss: 15.0198\n",
            "Epoch [20/1000], Loss: 20.4537\n",
            "Epoch [30/1000], Loss: 21.2881\n",
            "Epoch [40/1000], Loss: 21.2027\n",
            "Epoch [50/1000], Loss: 19.5040\n",
            "Epoch [60/1000], Loss: 16.7030\n",
            "Epoch [70/1000], Loss: 10.8896\n",
            "Epoch [80/1000], Loss: 23.1307\n",
            "Epoch [90/1000], Loss: 7.0232\n",
            "Epoch [100/1000], Loss: 20.3429\n",
            "Epoch [110/1000], Loss: 12.0630\n",
            "Epoch [120/1000], Loss: 16.9124\n",
            "Epoch [130/1000], Loss: 7.6327\n",
            "Epoch [140/1000], Loss: 13.7099\n",
            "Epoch [150/1000], Loss: 12.6326\n",
            "Epoch [160/1000], Loss: 14.0451\n",
            "Epoch [170/1000], Loss: 8.1761\n",
            "Epoch [180/1000], Loss: 11.7477\n",
            "Epoch [190/1000], Loss: 6.3989\n",
            "Epoch [200/1000], Loss: 9.7828\n",
            "Epoch [210/1000], Loss: 12.2607\n",
            "Epoch [220/1000], Loss: 4.7411\n",
            "Epoch [230/1000], Loss: 5.7595\n",
            "Epoch [240/1000], Loss: 7.8975\n",
            "Epoch [250/1000], Loss: 6.0619\n",
            "Epoch [260/1000], Loss: 4.7759\n",
            "Epoch [270/1000], Loss: 5.0066\n",
            "Epoch [280/1000], Loss: 3.1849\n",
            "Epoch [290/1000], Loss: 6.4584\n",
            "Epoch [300/1000], Loss: 3.7351\n",
            "Epoch [310/1000], Loss: 5.1700\n",
            "Epoch [320/1000], Loss: 4.7352\n",
            "Epoch [330/1000], Loss: 5.0881\n",
            "Epoch [340/1000], Loss: 2.9635\n",
            "Epoch [350/1000], Loss: 4.2672\n",
            "Epoch [360/1000], Loss: 3.7051\n",
            "Epoch [370/1000], Loss: 5.1389\n",
            "Epoch [380/1000], Loss: 4.5241\n",
            "Epoch [390/1000], Loss: 2.9771\n",
            "Epoch [400/1000], Loss: 3.8814\n",
            "Epoch [410/1000], Loss: 1.9980\n",
            "Epoch [420/1000], Loss: 3.0102\n",
            "Epoch [430/1000], Loss: 2.2320\n",
            "Epoch [440/1000], Loss: 4.5237\n",
            "Epoch [450/1000], Loss: 2.3135\n",
            "Epoch [460/1000], Loss: 2.0317\n",
            "Epoch [470/1000], Loss: 3.8373\n",
            "Epoch [480/1000], Loss: 2.6641\n",
            "Epoch [490/1000], Loss: 1.0280\n",
            "Epoch [500/1000], Loss: 2.6714\n",
            "Epoch [510/1000], Loss: 3.2995\n",
            "Epoch [520/1000], Loss: 1.4434\n",
            "Epoch [530/1000], Loss: 1.5706\n",
            "Epoch [540/1000], Loss: 1.8216\n",
            "Epoch [550/1000], Loss: 1.6585\n",
            "Epoch [560/1000], Loss: 1.2030\n",
            "Epoch [570/1000], Loss: 1.9682\n",
            "Epoch [580/1000], Loss: 2.0729\n",
            "Epoch [590/1000], Loss: 1.0241\n",
            "Epoch [600/1000], Loss: 1.8655\n",
            "Epoch [610/1000], Loss: 2.2108\n",
            "Epoch [620/1000], Loss: 1.7387\n",
            "Epoch [630/1000], Loss: 2.1923\n",
            "Epoch [640/1000], Loss: 1.9131\n",
            "Epoch [650/1000], Loss: 0.8528\n",
            "Epoch [660/1000], Loss: 2.4194\n",
            "Epoch [670/1000], Loss: 1.4340\n",
            "Epoch [680/1000], Loss: 1.6316\n",
            "Epoch [690/1000], Loss: 1.0574\n",
            "Epoch [700/1000], Loss: 2.0374\n",
            "Epoch [710/1000], Loss: 1.6810\n",
            "Epoch [720/1000], Loss: 1.8648\n",
            "Epoch [730/1000], Loss: 1.0473\n",
            "Epoch [740/1000], Loss: 0.9641\n",
            "Epoch [750/1000], Loss: 0.9085\n",
            "Epoch [760/1000], Loss: 1.4079\n",
            "Epoch [770/1000], Loss: 0.9130\n",
            "Epoch [780/1000], Loss: 1.0502\n",
            "Epoch [790/1000], Loss: 1.0467\n",
            "Epoch [800/1000], Loss: 1.4405\n",
            "Epoch [810/1000], Loss: 1.7020\n",
            "Epoch [820/1000], Loss: 1.3001\n",
            "Epoch [830/1000], Loss: 1.5462\n",
            "Epoch [840/1000], Loss: 1.7595\n",
            "Epoch [850/1000], Loss: 1.1008\n",
            "Epoch [860/1000], Loss: 0.7394\n",
            "Epoch [870/1000], Loss: 0.9343\n",
            "Epoch [880/1000], Loss: 1.0360\n",
            "Epoch [890/1000], Loss: 1.3818\n",
            "Epoch [900/1000], Loss: 0.8299\n",
            "Epoch [910/1000], Loss: 1.2851\n",
            "Epoch [920/1000], Loss: 0.7558\n",
            "Epoch [930/1000], Loss: 0.9791\n",
            "Epoch [940/1000], Loss: 1.2432\n",
            "Epoch [950/1000], Loss: 1.4407\n",
            "Epoch [960/1000], Loss: 1.1516\n",
            "Epoch [970/1000], Loss: 0.9535\n",
            "Epoch [980/1000], Loss: 0.6763\n",
            "Epoch [990/1000], Loss: 1.4817\n",
            "Epoch [1000/1000], Loss: 1.4537\n"
          ]
        }
      ]
    },
    {
      "cell_type": "code",
      "source": [
        "preds = model(inputs)\n",
        "preds"
      ],
      "metadata": {
        "colab": {
          "base_uri": "https://localhost:8080/"
        },
        "id": "Ufh4M6H9P-cN",
        "outputId": "c8ed37fa-e7b3-4f33-894b-c49a508aad30"
      },
      "execution_count": 41,
      "outputs": [
        {
          "output_type": "execute_result",
          "data": {
            "text/plain": [
              "tensor([[ 56.9974,  70.4046],\n",
              "        [ 81.8771, 100.4250],\n",
              "        [118.3374, 133.3009],\n",
              "        [ 20.8405,  37.9159],\n",
              "        [101.6553, 118.1236],\n",
              "        [ 55.7462,  69.3245],\n",
              "        [ 81.7150, 100.4854],\n",
              "        [118.6176, 133.8876],\n",
              "        [ 22.0916,  38.9960],\n",
              "        [102.7443, 119.2640],\n",
              "        [ 56.8352,  70.4650],\n",
              "        [ 80.6260,  99.3449],\n",
              "        [118.4995, 133.2405],\n",
              "        [ 19.7515,  36.7755],\n",
              "        [102.9065, 119.2037]], grad_fn=<AddmmBackward0>)"
            ]
          },
          "metadata": {},
          "execution_count": 41
        }
      ]
    },
    {
      "cell_type": "code",
      "source": [
        "targets"
      ],
      "metadata": {
        "colab": {
          "base_uri": "https://localhost:8080/"
        },
        "id": "CnNDAbSYQOFL",
        "outputId": "40402d5f-b348-4152-cf3f-42ddd7b45b8f"
      },
      "execution_count": 42,
      "outputs": [
        {
          "output_type": "execute_result",
          "data": {
            "text/plain": [
              "tensor([[ 56.,  70.],\n",
              "        [ 81., 101.],\n",
              "        [119., 133.],\n",
              "        [ 22.,  37.],\n",
              "        [103., 119.],\n",
              "        [ 57.,  69.],\n",
              "        [ 80., 102.],\n",
              "        [118., 132.],\n",
              "        [ 21.,  38.],\n",
              "        [104., 118.],\n",
              "        [ 57.,  69.],\n",
              "        [ 82., 100.],\n",
              "        [118., 134.],\n",
              "        [ 20.,  38.],\n",
              "        [102., 120.]])"
            ]
          },
          "metadata": {},
          "execution_count": 42
        }
      ]
    },
    {
      "cell_type": "code",
      "source": [
        ""
      ],
      "metadata": {
        "id": "GhUohLrAQP7p"
      },
      "execution_count": null,
      "outputs": []
    }
  ]
}